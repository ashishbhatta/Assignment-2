{
 "cells": [
  {
   "cell_type": "code",
   "execution_count": 1,
   "id": "10f815ad",
   "metadata": {},
   "outputs": [],
   "source": [
    "import pandas as pd\n",
    "\n",
    "voltage_df = pd.read_csv(r\"D:\\Notebook\\Bus_Voltage.csv\",encoding='cp1125')"
   ]
  },
  {
   "cell_type": "code",
   "execution_count": null,
   "id": "af148023",
   "metadata": {
    "scrolled": false
   },
   "outputs": [],
   "source": []
  },
  {
   "cell_type": "code",
   "execution_count": 2,
   "id": "d3cd3d03",
   "metadata": {},
   "outputs": [],
   "source": [
    "#Removing the Voltage data for PV Buses and Slcak Bus\n",
    "voltage_df.drop([0,2,3,4,6,9,10,12,13,14],inplace=True)"
   ]
  },
  {
   "cell_type": "code",
   "execution_count": 3,
   "id": "244d8da9",
   "metadata": {},
   "outputs": [],
   "source": [
    "#Reading the activepower data exported from power factory\n",
    "active_power_df = pd.read_excel(r\"D:\\Notebook\\active_power_training_data.xlsx\")"
   ]
  },
  {
   "cell_type": "code",
   "execution_count": 4,
   "id": "d7c8b8b1",
   "metadata": {},
   "outputs": [
    {
     "data": {
      "text/html": [
       "<div>\n",
       "<style scoped>\n",
       "    .dataframe tbody tr th:only-of-type {\n",
       "        vertical-align: middle;\n",
       "    }\n",
       "\n",
       "    .dataframe tbody tr th {\n",
       "        vertical-align: top;\n",
       "    }\n",
       "\n",
       "    .dataframe thead th {\n",
       "        text-align: right;\n",
       "    }\n",
       "</style>\n",
       "<table border=\"1\" class=\"dataframe\">\n",
       "  <thead>\n",
       "    <tr style=\"text-align: right;\">\n",
       "      <th></th>\n",
       "      <th>Substation</th>\n",
       "      <th>training_data_1</th>\n",
       "      <th>training_data_2</th>\n",
       "      <th>training_data_3</th>\n",
       "      <th>training_data_4</th>\n",
       "      <th>training_data_5</th>\n",
       "      <th>training_data_6</th>\n",
       "      <th>training_data_7</th>\n",
       "      <th>training_data_8</th>\n",
       "      <th>training_data_9</th>\n",
       "      <th>...</th>\n",
       "      <th>training_data_9991</th>\n",
       "      <th>training_data_9992</th>\n",
       "      <th>training_data_9993</th>\n",
       "      <th>training_data_9994</th>\n",
       "      <th>training_data_9995</th>\n",
       "      <th>training_data_9996</th>\n",
       "      <th>training_data_9997</th>\n",
       "      <th>training_data_9998</th>\n",
       "      <th>training_data_9999</th>\n",
       "      <th>training_data_10000</th>\n",
       "    </tr>\n",
       "  </thead>\n",
       "  <tbody>\n",
       "    <tr>\n",
       "      <th>1</th>\n",
       "      <td>Damak</td>\n",
       "      <td>21.362095</td>\n",
       "      <td>21.617460</td>\n",
       "      <td>21.017770</td>\n",
       "      <td>20.462775</td>\n",
       "      <td>19.804725</td>\n",
       "      <td>19.752755</td>\n",
       "      <td>21.667779</td>\n",
       "      <td>21.089065</td>\n",
       "      <td>20.749477</td>\n",
       "      <td>...</td>\n",
       "      <td>20.000326</td>\n",
       "      <td>20.320667</td>\n",
       "      <td>20.253399</td>\n",
       "      <td>20.458313</td>\n",
       "      <td>20.886455</td>\n",
       "      <td>20.785292</td>\n",
       "      <td>20.709283</td>\n",
       "      <td>21.195998</td>\n",
       "      <td>20.620792</td>\n",
       "      <td>20.413162</td>\n",
       "    </tr>\n",
       "    <tr>\n",
       "      <th>4</th>\n",
       "      <td>Kabeli (Amarpur)</td>\n",
       "      <td>2.627481</td>\n",
       "      <td>2.734143</td>\n",
       "      <td>2.626526</td>\n",
       "      <td>2.685381</td>\n",
       "      <td>2.690046</td>\n",
       "      <td>2.675313</td>\n",
       "      <td>2.620379</td>\n",
       "      <td>2.709808</td>\n",
       "      <td>2.608866</td>\n",
       "      <td>...</td>\n",
       "      <td>2.611450</td>\n",
       "      <td>2.719630</td>\n",
       "      <td>2.697781</td>\n",
       "      <td>2.715884</td>\n",
       "      <td>2.709012</td>\n",
       "      <td>2.675752</td>\n",
       "      <td>2.597990</td>\n",
       "      <td>2.678688</td>\n",
       "      <td>2.748497</td>\n",
       "      <td>2.604814</td>\n",
       "    </tr>\n",
       "    <tr>\n",
       "      <th>5</th>\n",
       "      <td>Kusaha</td>\n",
       "      <td>9.142593</td>\n",
       "      <td>8.847695</td>\n",
       "      <td>9.174844</td>\n",
       "      <td>9.162229</td>\n",
       "      <td>8.755518</td>\n",
       "      <td>9.279661</td>\n",
       "      <td>8.931742</td>\n",
       "      <td>8.892483</td>\n",
       "      <td>8.881877</td>\n",
       "      <td>...</td>\n",
       "      <td>8.990684</td>\n",
       "      <td>9.106000</td>\n",
       "      <td>9.033014</td>\n",
       "      <td>8.942909</td>\n",
       "      <td>9.236679</td>\n",
       "      <td>9.111181</td>\n",
       "      <td>8.994184</td>\n",
       "      <td>8.994465</td>\n",
       "      <td>9.115072</td>\n",
       "      <td>8.809560</td>\n",
       "    </tr>\n",
       "    <tr>\n",
       "      <th>6</th>\n",
       "      <td>Lahan</td>\n",
       "      <td>13.882863</td>\n",
       "      <td>13.227750</td>\n",
       "      <td>13.275904</td>\n",
       "      <td>13.864535</td>\n",
       "      <td>13.914269</td>\n",
       "      <td>13.685122</td>\n",
       "      <td>13.793227</td>\n",
       "      <td>13.792091</td>\n",
       "      <td>13.665949</td>\n",
       "      <td>...</td>\n",
       "      <td>13.768634</td>\n",
       "      <td>13.795441</td>\n",
       "      <td>13.786844</td>\n",
       "      <td>13.891871</td>\n",
       "      <td>13.700575</td>\n",
       "      <td>13.732059</td>\n",
       "      <td>13.669015</td>\n",
       "      <td>13.433227</td>\n",
       "      <td>13.528811</td>\n",
       "      <td>13.693368</td>\n",
       "    </tr>\n",
       "    <tr>\n",
       "      <th>9</th>\n",
       "      <td>Rupani</td>\n",
       "      <td>14.634490</td>\n",
       "      <td>14.442821</td>\n",
       "      <td>14.834103</td>\n",
       "      <td>15.001393</td>\n",
       "      <td>14.695567</td>\n",
       "      <td>15.531291</td>\n",
       "      <td>14.649476</td>\n",
       "      <td>14.311282</td>\n",
       "      <td>14.649694</td>\n",
       "      <td>...</td>\n",
       "      <td>15.300951</td>\n",
       "      <td>14.095519</td>\n",
       "      <td>14.756189</td>\n",
       "      <td>14.876196</td>\n",
       "      <td>14.845656</td>\n",
       "      <td>14.746948</td>\n",
       "      <td>14.273941</td>\n",
       "      <td>14.897661</td>\n",
       "      <td>14.426675</td>\n",
       "      <td>14.896426</td>\n",
       "    </tr>\n",
       "  </tbody>\n",
       "</table>\n",
       "<p>5 rows × 10001 columns</p>\n",
       "</div>"
      ],
      "text/plain": [
       "         Substation  training_data_1  training_data_2  training_data_3  \\\n",
       "1             Damak        21.362095        21.617460        21.017770   \n",
       "4  Kabeli (Amarpur)         2.627481         2.734143         2.626526   \n",
       "5            Kusaha         9.142593         8.847695         9.174844   \n",
       "6             Lahan        13.882863        13.227750        13.275904   \n",
       "9            Rupani        14.634490        14.442821        14.834103   \n",
       "\n",
       "   training_data_4  training_data_5  training_data_6  training_data_7  \\\n",
       "1        20.462775        19.804725        19.752755        21.667779   \n",
       "4         2.685381         2.690046         2.675313         2.620379   \n",
       "5         9.162229         8.755518         9.279661         8.931742   \n",
       "6        13.864535        13.914269        13.685122        13.793227   \n",
       "9        15.001393        14.695567        15.531291        14.649476   \n",
       "\n",
       "   training_data_8  training_data_9  ...  training_data_9991  \\\n",
       "1        21.089065        20.749477  ...           20.000326   \n",
       "4         2.709808         2.608866  ...            2.611450   \n",
       "5         8.892483         8.881877  ...            8.990684   \n",
       "6        13.792091        13.665949  ...           13.768634   \n",
       "9        14.311282        14.649694  ...           15.300951   \n",
       "\n",
       "   training_data_9992  training_data_9993  training_data_9994  \\\n",
       "1           20.320667           20.253399           20.458313   \n",
       "4            2.719630            2.697781            2.715884   \n",
       "5            9.106000            9.033014            8.942909   \n",
       "6           13.795441           13.786844           13.891871   \n",
       "9           14.095519           14.756189           14.876196   \n",
       "\n",
       "   training_data_9995  training_data_9996  training_data_9997  \\\n",
       "1           20.886455           20.785292           20.709283   \n",
       "4            2.709012            2.675752            2.597990   \n",
       "5            9.236679            9.111181            8.994184   \n",
       "6           13.700575           13.732059           13.669015   \n",
       "9           14.845656           14.746948           14.273941   \n",
       "\n",
       "   training_data_9998  training_data_9999  training_data_10000  \n",
       "1           21.195998           20.620792            20.413162  \n",
       "4            2.678688            2.748497             2.604814  \n",
       "5            8.994465            9.115072             8.809560  \n",
       "6           13.433227           13.528811            13.693368  \n",
       "9           14.897661           14.426675            14.896426  \n",
       "\n",
       "[5 rows x 10001 columns]"
      ]
     },
     "execution_count": 4,
     "metadata": {},
     "output_type": "execute_result"
    }
   ],
   "source": [
    "#Removing the active power data for PV Buses and Slcak Bus\n",
    "active_power_df.drop([0,2,3,7,8],inplace=True)\n",
    "\n",
    "#rename the substaion name \n",
    "active_power_df.loc[active_power_df['Substation'] == 'Kabeli/Amapur', 'Substation'] = 'Kabeli (Amarpur)'\n",
    "active_power_df\n",
    "\n"
   ]
  },
  {
   "cell_type": "code",
   "execution_count": 5,
   "id": "6a369bc2",
   "metadata": {},
   "outputs": [
    {
     "name": "stdout",
     "output_type": "stream",
     "text": [
      "      Substation  Training_Data_Index  Active_Power\n",
      "0          Damak      training_data_1     21.362095\n",
      "1          Damak      training_data_2     21.617460\n",
      "2          Damak      training_data_3     21.017770\n",
      "3          Damak      training_data_4     20.462775\n",
      "4          Damak      training_data_5     19.804725\n",
      "...          ...                  ...           ...\n",
      "49995     Rupani   training_data_9996     14.746948\n",
      "49996     Rupani   training_data_9997     14.273941\n",
      "49997     Rupani   training_data_9998     14.897661\n",
      "49998     Rupani   training_data_9999     14.426675\n",
      "49999     Rupani  training_data_10000     14.896426\n",
      "\n",
      "[50000 rows x 3 columns]\n"
     ]
    }
   ],
   "source": [
    "#Stacking all active power training data to a single column\n",
    "active_power_stacked_df = active_power_df.set_index('Substation').stack().reset_index()\n",
    "\n",
    "# Rename the columns for clarity\n",
    "active_power_stacked_df.columns = ['Substation', 'Training_Data_Index', 'Active_Power']\n",
    "\n",
    "print(active_power_stacked_df)"
   ]
  },
  {
   "cell_type": "code",
   "execution_count": 6,
   "id": "9b6d3c2d",
   "metadata": {
    "scrolled": true
   },
   "outputs": [
    {
     "name": "stdout",
     "output_type": "stream",
     "text": [
      "      Substation Training_Data_Index  Bus_Voltage\n",
      "0          Damak         test_data 1     0.995796\n",
      "1          Damak         test_data 2     0.996506\n",
      "2          Damak         test_data 3     0.995709\n",
      "3          Damak         test_data 4     0.996186\n",
      "4          Damak         test_data 5     0.996008\n",
      "...          ...                 ...          ...\n",
      "49995     Rupani      test_data 9996     0.984408\n",
      "49996     Rupani      test_data 9997     0.984835\n",
      "49997     Rupani      test_data 9998     0.984535\n",
      "49998     Rupani      test_data 9999     0.984393\n",
      "49999     Rupani     test_data 10000     0.984205\n",
      "\n",
      "[50000 rows x 3 columns]\n"
     ]
    }
   ],
   "source": [
    "#Stacking all voltage training data to a single column\n",
    "voltage_stacked_df = voltage_df.set_index('Bus Name').stack().reset_index()\n",
    "\n",
    "# Rename the columns for clarity\n",
    "voltage_stacked_df.columns = ['Substation', 'Training_Data_Index', 'Bus_Voltage']\n",
    "\n",
    "# Display the result\n",
    "print(voltage_stacked_df)"
   ]
  },
  {
   "cell_type": "code",
   "execution_count": null,
   "id": "f3e0c144",
   "metadata": {},
   "outputs": [],
   "source": []
  },
  {
   "cell_type": "code",
   "execution_count": 8,
   "id": "2b399508",
   "metadata": {},
   "outputs": [],
   "source": [
    "reactive_power_df = pd.read_excel(r\"D:\\Notebook\\reactive_power_training_data.xlsx\")"
   ]
  },
  {
   "cell_type": "code",
   "execution_count": 9,
   "id": "21094f49",
   "metadata": {},
   "outputs": [
    {
     "name": "stdout",
     "output_type": "stream",
     "text": [
      "  Substation Training_Data_Index  Reactive_Power\n",
      "0      Damak     training_data_1       11.419547\n",
      "1      Damak     training_data_2        8.740988\n",
      "2      Damak     training_data_3       11.543729\n",
      "3      Damak     training_data_4       10.066020\n",
      "4      Damak     training_data_5       10.336137\n"
     ]
    }
   ],
   "source": [
    "reactive_power_df.drop([0,2,3,7,8],inplace=True)\n",
    "reactive_power_df.loc[reactive_power_df['Substation'] == 'Kabeli/Amapur', 'Substation'] = 'Kabeli (Amarpur)'\n",
    "reactive_power_stacked_df = reactive_power_df.set_index('Substation').stack().reset_index()\n",
    "reactive_power_stacked_df.columns = ['Substation', 'Training_Data_Index', 'Reactive_Power']\n",
    "print(reactive_power_stacked_df.head())"
   ]
  },
  {
   "cell_type": "code",
   "execution_count": null,
   "id": "16162db4",
   "metadata": {},
   "outputs": [],
   "source": [
    "#reactive_power_stacked_df.to_csv(\"reactive_power_stacked.csv\")\n",
    "#active_power_stacked_df.to_csv(\"active_power_stacked.csv\")\n",
    "#voltage_stacked_df.to_csv(\"volatge_stacked.csv\")"
   ]
  },
  {
   "cell_type": "code",
   "execution_count": 10,
   "id": "cf1a3b89",
   "metadata": {},
   "outputs": [
    {
     "name": "stdout",
     "output_type": "stream",
     "text": [
      "      Substation  Training_Data_Index  Active_Power  Reactive_Power\n",
      "0          Damak      training_data_1     21.362095       11.419547\n",
      "1          Damak      training_data_2     21.617460        8.740988\n",
      "2          Damak      training_data_3     21.017770       11.543729\n",
      "3          Damak      training_data_4     20.462775       10.066020\n",
      "4          Damak      training_data_5     19.804725       10.336137\n",
      "...          ...                  ...           ...             ...\n",
      "49995     Rupani   training_data_9996     14.746948        8.032657\n",
      "49996     Rupani   training_data_9997     14.273941        5.986983\n",
      "49997     Rupani   training_data_9998     14.897661        7.820217\n",
      "49998     Rupani   training_data_9999     14.426675        7.716224\n",
      "49999     Rupani  training_data_10000     14.896426        6.717351\n",
      "\n",
      "[50000 rows x 4 columns]\n"
     ]
    }
   ],
   "source": [
    "merged_df = pd.merge(active_power_stacked_df,reactive_power_stacked_df)\n"
   ]
  },
  {
   "cell_type": "code",
   "execution_count": 11,
   "id": "ae862150",
   "metadata": {},
   "outputs": [
    {
     "name": "stdout",
     "output_type": "stream",
     "text": [
      "      Substation  Training_Data_Index  Active_Power  Reactive_Power   Voltage\n",
      "0          Damak      training_data_1     21.362095       11.419547  0.995796\n",
      "1          Damak      training_data_2     21.617460        8.740988  0.996506\n",
      "2          Damak      training_data_3     21.017770       11.543729  0.995709\n",
      "3          Damak      training_data_4     20.462775       10.066020  0.996186\n",
      "4          Damak      training_data_5     19.804725       10.336137  0.996008\n",
      "...          ...                  ...           ...             ...       ...\n",
      "49995     Rupani   training_data_9996     14.746948        8.032657  0.984408\n",
      "49996     Rupani   training_data_9997     14.273941        5.986983  0.984835\n",
      "49997     Rupani   training_data_9998     14.897661        7.820217  0.984535\n",
      "49998     Rupani   training_data_9999     14.426675        7.716224  0.984393\n",
      "49999     Rupani  training_data_10000     14.896426        6.717351  0.984205\n",
      "\n",
      "[50000 rows x 5 columns]\n"
     ]
    }
   ],
   "source": [
    "merged_df[\"Voltage\"] = voltage_stacked_df[\"Bus_Voltage\"]\n",
    "print(merged_df)\n",
    "merged_df.to_csv(\"Data_for_ML.csv\")"
   ]
  }
 ],
 "metadata": {
  "kernelspec": {
   "display_name": "Python 3 (ipykernel)",
   "language": "python",
   "name": "python3"
  },
  "language_info": {
   "codemirror_mode": {
    "name": "ipython",
    "version": 3
   },
   "file_extension": ".py",
   "mimetype": "text/x-python",
   "name": "python",
   "nbconvert_exporter": "python",
   "pygments_lexer": "ipython3",
   "version": "3.11.5"
  }
 },
 "nbformat": 4,
 "nbformat_minor": 5
}
