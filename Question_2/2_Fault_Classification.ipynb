{
  "cells": [
    {
      "cell_type": "markdown",
      "metadata": {
        "id": "view-in-github",
        "colab_type": "text"
      },
      "source": [
        "<a href=\"https://colab.research.google.com/github/ashishbhatta/Assignment-2/blob/main/Question_2/2_Fault_Classification.ipynb\" target=\"_parent\"><img src=\"https://colab.research.google.com/assets/colab-badge.svg\" alt=\"Open In Colab\"/></a>"
      ]
    },
    {
      "cell_type": "code",
      "execution_count": null,
      "id": "a17e6ac4",
      "metadata": {
        "id": "a17e6ac4"
      },
      "outputs": [],
      "source": [
        "import pandas as pd\n",
        "import numpy as np\n",
        "import matplotlib.pyplot as plt\n",
        "\n",
        "import time\n",
        "\n",
        "from sklearn.model_selection import train_test_split #needed for spliting data into testing and training\n",
        "from sklearn.preprocessing import StandardScaler\n",
        "\n",
        "from sklearn.linear_model import LogisticRegression\n",
        "from sklearn import svm\n",
        "from sklearn import tree\n",
        "from sklearn.neural_network import MLPClassifier\n",
        "from sklearn.ensemble import RandomForestClassifier\n",
        "from xgboost import XGBClassifier\n",
        "\n",
        "#from sklearn import metrics\n",
        "from sklearn.metrics import accuracy_score, precision_score, recall_score, f1_score\n",
        "from sklearn.model_selection import GridSearchCV, RepeatedKFold"
      ]
    },
    {
      "cell_type": "code",
      "execution_count": null,
      "id": "36605e0b",
      "metadata": {
        "id": "36605e0b",
        "outputId": "f632a074-7719-42fe-fdbf-cb14c0c0428e",
        "colab": {
          "base_uri": "https://localhost:8080/",
          "height": 356
        }
      },
      "outputs": [
        {
          "output_type": "error",
          "ename": "FileNotFoundError",
          "evalue": "[Errno 2] No such file or directory: 'D:\\\\Notebook\\\\LG.csv'",
          "traceback": [
            "\u001b[0;31m---------------------------------------------------------------------------\u001b[0m",
            "\u001b[0;31mFileNotFoundError\u001b[0m                         Traceback (most recent call last)",
            "\u001b[0;32m<ipython-input-3-9f526ee7c360>\u001b[0m in \u001b[0;36m<cell line: 0>\u001b[0;34m()\u001b[0m\n\u001b[0;32m----> 1\u001b[0;31m \u001b[0mdf_LG\u001b[0m \u001b[0;34m=\u001b[0m \u001b[0mpd\u001b[0m\u001b[0;34m.\u001b[0m\u001b[0mread_csv\u001b[0m\u001b[0;34m(\u001b[0m\u001b[0;34mr\"D:\\Notebook\\LG.csv\"\u001b[0m\u001b[0;34m)\u001b[0m\u001b[0;34m\u001b[0m\u001b[0;34m\u001b[0m\u001b[0m\n\u001b[0m\u001b[1;32m      2\u001b[0m \u001b[0mdf_LL\u001b[0m \u001b[0;34m=\u001b[0m \u001b[0mpd\u001b[0m\u001b[0;34m.\u001b[0m\u001b[0mread_csv\u001b[0m\u001b[0;34m(\u001b[0m\u001b[0;34mr\"D:\\Notebook\\LL.csv\"\u001b[0m\u001b[0;34m)\u001b[0m\u001b[0;34m\u001b[0m\u001b[0;34m\u001b[0m\u001b[0m\n\u001b[1;32m      3\u001b[0m \u001b[0mdf_LLG\u001b[0m\u001b[0;34m=\u001b[0m\u001b[0mpd\u001b[0m\u001b[0;34m.\u001b[0m\u001b[0mread_csv\u001b[0m\u001b[0;34m(\u001b[0m\u001b[0;34mr\"D:\\Notebook\\LLG.csv\"\u001b[0m\u001b[0;34m)\u001b[0m\u001b[0;34m\u001b[0m\u001b[0;34m\u001b[0m\u001b[0m\n\u001b[1;32m      4\u001b[0m \u001b[0mdf_LLL\u001b[0m \u001b[0;34m=\u001b[0m \u001b[0mpd\u001b[0m\u001b[0;34m.\u001b[0m\u001b[0mread_csv\u001b[0m\u001b[0;34m(\u001b[0m\u001b[0;34mr\"D:\\Notebook\\LLL_fault.csv\"\u001b[0m\u001b[0;34m)\u001b[0m\u001b[0;34m\u001b[0m\u001b[0;34m\u001b[0m\u001b[0m\n\u001b[1;32m      5\u001b[0m \u001b[0;34m\u001b[0m\u001b[0m\n",
            "\u001b[0;32m/usr/local/lib/python3.11/dist-packages/pandas/io/parsers/readers.py\u001b[0m in \u001b[0;36mread_csv\u001b[0;34m(filepath_or_buffer, sep, delimiter, header, names, index_col, usecols, dtype, engine, converters, true_values, false_values, skipinitialspace, skiprows, skipfooter, nrows, na_values, keep_default_na, na_filter, verbose, skip_blank_lines, parse_dates, infer_datetime_format, keep_date_col, date_parser, date_format, dayfirst, cache_dates, iterator, chunksize, compression, thousands, decimal, lineterminator, quotechar, quoting, doublequote, escapechar, comment, encoding, encoding_errors, dialect, on_bad_lines, delim_whitespace, low_memory, memory_map, float_precision, storage_options, dtype_backend)\u001b[0m\n\u001b[1;32m   1024\u001b[0m     \u001b[0mkwds\u001b[0m\u001b[0;34m.\u001b[0m\u001b[0mupdate\u001b[0m\u001b[0;34m(\u001b[0m\u001b[0mkwds_defaults\u001b[0m\u001b[0;34m)\u001b[0m\u001b[0;34m\u001b[0m\u001b[0;34m\u001b[0m\u001b[0m\n\u001b[1;32m   1025\u001b[0m \u001b[0;34m\u001b[0m\u001b[0m\n\u001b[0;32m-> 1026\u001b[0;31m     \u001b[0;32mreturn\u001b[0m \u001b[0m_read\u001b[0m\u001b[0;34m(\u001b[0m\u001b[0mfilepath_or_buffer\u001b[0m\u001b[0;34m,\u001b[0m \u001b[0mkwds\u001b[0m\u001b[0;34m)\u001b[0m\u001b[0;34m\u001b[0m\u001b[0;34m\u001b[0m\u001b[0m\n\u001b[0m\u001b[1;32m   1027\u001b[0m \u001b[0;34m\u001b[0m\u001b[0m\n\u001b[1;32m   1028\u001b[0m \u001b[0;34m\u001b[0m\u001b[0m\n",
            "\u001b[0;32m/usr/local/lib/python3.11/dist-packages/pandas/io/parsers/readers.py\u001b[0m in \u001b[0;36m_read\u001b[0;34m(filepath_or_buffer, kwds)\u001b[0m\n\u001b[1;32m    618\u001b[0m \u001b[0;34m\u001b[0m\u001b[0m\n\u001b[1;32m    619\u001b[0m     \u001b[0;31m# Create the parser.\u001b[0m\u001b[0;34m\u001b[0m\u001b[0;34m\u001b[0m\u001b[0m\n\u001b[0;32m--> 620\u001b[0;31m     \u001b[0mparser\u001b[0m \u001b[0;34m=\u001b[0m \u001b[0mTextFileReader\u001b[0m\u001b[0;34m(\u001b[0m\u001b[0mfilepath_or_buffer\u001b[0m\u001b[0;34m,\u001b[0m \u001b[0;34m**\u001b[0m\u001b[0mkwds\u001b[0m\u001b[0;34m)\u001b[0m\u001b[0;34m\u001b[0m\u001b[0;34m\u001b[0m\u001b[0m\n\u001b[0m\u001b[1;32m    621\u001b[0m \u001b[0;34m\u001b[0m\u001b[0m\n\u001b[1;32m    622\u001b[0m     \u001b[0;32mif\u001b[0m \u001b[0mchunksize\u001b[0m \u001b[0;32mor\u001b[0m \u001b[0miterator\u001b[0m\u001b[0;34m:\u001b[0m\u001b[0;34m\u001b[0m\u001b[0;34m\u001b[0m\u001b[0m\n",
            "\u001b[0;32m/usr/local/lib/python3.11/dist-packages/pandas/io/parsers/readers.py\u001b[0m in \u001b[0;36m__init__\u001b[0;34m(self, f, engine, **kwds)\u001b[0m\n\u001b[1;32m   1618\u001b[0m \u001b[0;34m\u001b[0m\u001b[0m\n\u001b[1;32m   1619\u001b[0m         \u001b[0mself\u001b[0m\u001b[0;34m.\u001b[0m\u001b[0mhandles\u001b[0m\u001b[0;34m:\u001b[0m \u001b[0mIOHandles\u001b[0m \u001b[0;34m|\u001b[0m \u001b[0;32mNone\u001b[0m \u001b[0;34m=\u001b[0m \u001b[0;32mNone\u001b[0m\u001b[0;34m\u001b[0m\u001b[0;34m\u001b[0m\u001b[0m\n\u001b[0;32m-> 1620\u001b[0;31m         \u001b[0mself\u001b[0m\u001b[0;34m.\u001b[0m\u001b[0m_engine\u001b[0m \u001b[0;34m=\u001b[0m \u001b[0mself\u001b[0m\u001b[0;34m.\u001b[0m\u001b[0m_make_engine\u001b[0m\u001b[0;34m(\u001b[0m\u001b[0mf\u001b[0m\u001b[0;34m,\u001b[0m \u001b[0mself\u001b[0m\u001b[0;34m.\u001b[0m\u001b[0mengine\u001b[0m\u001b[0;34m)\u001b[0m\u001b[0;34m\u001b[0m\u001b[0;34m\u001b[0m\u001b[0m\n\u001b[0m\u001b[1;32m   1621\u001b[0m \u001b[0;34m\u001b[0m\u001b[0m\n\u001b[1;32m   1622\u001b[0m     \u001b[0;32mdef\u001b[0m \u001b[0mclose\u001b[0m\u001b[0;34m(\u001b[0m\u001b[0mself\u001b[0m\u001b[0;34m)\u001b[0m \u001b[0;34m->\u001b[0m \u001b[0;32mNone\u001b[0m\u001b[0;34m:\u001b[0m\u001b[0;34m\u001b[0m\u001b[0;34m\u001b[0m\u001b[0m\n",
            "\u001b[0;32m/usr/local/lib/python3.11/dist-packages/pandas/io/parsers/readers.py\u001b[0m in \u001b[0;36m_make_engine\u001b[0;34m(self, f, engine)\u001b[0m\n\u001b[1;32m   1878\u001b[0m                 \u001b[0;32mif\u001b[0m \u001b[0;34m\"b\"\u001b[0m \u001b[0;32mnot\u001b[0m \u001b[0;32min\u001b[0m \u001b[0mmode\u001b[0m\u001b[0;34m:\u001b[0m\u001b[0;34m\u001b[0m\u001b[0;34m\u001b[0m\u001b[0m\n\u001b[1;32m   1879\u001b[0m                     \u001b[0mmode\u001b[0m \u001b[0;34m+=\u001b[0m \u001b[0;34m\"b\"\u001b[0m\u001b[0;34m\u001b[0m\u001b[0;34m\u001b[0m\u001b[0m\n\u001b[0;32m-> 1880\u001b[0;31m             self.handles = get_handle(\n\u001b[0m\u001b[1;32m   1881\u001b[0m                 \u001b[0mf\u001b[0m\u001b[0;34m,\u001b[0m\u001b[0;34m\u001b[0m\u001b[0;34m\u001b[0m\u001b[0m\n\u001b[1;32m   1882\u001b[0m                 \u001b[0mmode\u001b[0m\u001b[0;34m,\u001b[0m\u001b[0;34m\u001b[0m\u001b[0;34m\u001b[0m\u001b[0m\n",
            "\u001b[0;32m/usr/local/lib/python3.11/dist-packages/pandas/io/common.py\u001b[0m in \u001b[0;36mget_handle\u001b[0;34m(path_or_buf, mode, encoding, compression, memory_map, is_text, errors, storage_options)\u001b[0m\n\u001b[1;32m    871\u001b[0m         \u001b[0;32mif\u001b[0m \u001b[0mioargs\u001b[0m\u001b[0;34m.\u001b[0m\u001b[0mencoding\u001b[0m \u001b[0;32mand\u001b[0m \u001b[0;34m\"b\"\u001b[0m \u001b[0;32mnot\u001b[0m \u001b[0;32min\u001b[0m \u001b[0mioargs\u001b[0m\u001b[0;34m.\u001b[0m\u001b[0mmode\u001b[0m\u001b[0;34m:\u001b[0m\u001b[0;34m\u001b[0m\u001b[0;34m\u001b[0m\u001b[0m\n\u001b[1;32m    872\u001b[0m             \u001b[0;31m# Encoding\u001b[0m\u001b[0;34m\u001b[0m\u001b[0;34m\u001b[0m\u001b[0m\n\u001b[0;32m--> 873\u001b[0;31m             handle = open(\n\u001b[0m\u001b[1;32m    874\u001b[0m                 \u001b[0mhandle\u001b[0m\u001b[0;34m,\u001b[0m\u001b[0;34m\u001b[0m\u001b[0;34m\u001b[0m\u001b[0m\n\u001b[1;32m    875\u001b[0m                 \u001b[0mioargs\u001b[0m\u001b[0;34m.\u001b[0m\u001b[0mmode\u001b[0m\u001b[0;34m,\u001b[0m\u001b[0;34m\u001b[0m\u001b[0;34m\u001b[0m\u001b[0m\n",
            "\u001b[0;31mFileNotFoundError\u001b[0m: [Errno 2] No such file or directory: 'D:\\\\Notebook\\\\LG.csv'"
          ]
        }
      ],
      "source": [
        "df_LG = pd.read_csv(r\"D:\\Notebook\\LG.csv\")\n",
        "df_LL = pd.read_csv(r\"D:\\Notebook\\LL.csv\")\n",
        "df_LLG=pd.read_csv(r\"D:\\Notebook\\LLG.csv\")\n",
        "df_LLL = pd.read_csv(r\"D:\\Notebook\\LLL_fault.csv\")\n",
        "\n",
        "df = pd.concat([df_LG, df_LL, df_LLG, df_LLL],ignore_index=True,axis=0) # ignore_index=True,\n",
        "print(df)\n",
        "\n",
        "data=np.array(df)\n",
        "X=data[:,1:4]\n",
        "y=data[:,4]"
      ]
    },
    {
      "cell_type": "code",
      "execution_count": null,
      "id": "1663607e",
      "metadata": {
        "id": "1663607e"
      },
      "outputs": [],
      "source": [
        "#Step 1: Understanding the Data\n",
        "\n",
        "# Scatter plot of the inputs vs target\n",
        "plt.scatter(X[:, 0], y, label='I_a vs Fault Type')\n",
        "#plt.scatter(X[:, 1], y, label='I_b vs Fault Type')\n",
        "#plt.scatter(X[:, 2], y, label='I_c vs Fault Type')\n",
        "\n",
        "plt.xlabel('Inputs')\n",
        "plt.ylabel('Target')\n",
        "plt.legend()\n",
        "plt.title('Output vs Input Visualization')\n",
        "plt.show()"
      ]
    },
    {
      "cell_type": "code",
      "execution_count": null,
      "id": "a8ee3d29",
      "metadata": {
        "id": "a8ee3d29"
      },
      "outputs": [],
      "source": [
        "#Step2: Scaling the data\n",
        "\n",
        "X_train, X_test, y_train, y_test = train_test_split(X,y,random_state=42,test_size=0.2)\n",
        "#print(\"Train data are:\")\n",
        "#print(X_train)\n",
        "#print(y_train)\n",
        "\n",
        "#Normalizing the Input\n",
        "scaler = StandardScaler()\n",
        "scaler.fit(X_train)\n",
        "X_train_scaled = scaler.transform(X_train)\n",
        "X_test_scaled = scaler.transform(X_test)"
      ]
    },
    {
      "cell_type": "code",
      "execution_count": null,
      "id": "e2fa0913",
      "metadata": {
        "id": "e2fa0913"
      },
      "outputs": [],
      "source": [
        "#Step 3:  Training with various Model\n",
        "\n",
        "def ML_classifier(classifier,train_inputs= X_train_scaled,train_target = y_train, test_inputs= X_test_scaled, test_output = y_test,model_name = \"\"):\n",
        "    t = time.process_time()\n",
        "    classifier.fit(train_inputs,train_target)\n",
        "    #training_time = time.process_time() - t\n",
        "    print(f\"Training Time =\",time.process_time() - t)\n",
        "    print(\"Training Accuracy =\" ,accuracy_score(train_target, classifier.predict(train_inputs)))\n",
        "    print(\"Training Precision =\", precision_score(train_target, classifier.predict(train_inputs), average='micro'))\n",
        "    print(\"Training Recall =\", recall_score(train_target, classifier.predict(train_inputs), average='micro'))\n",
        "    print(\"Training F1 Score =\", f1_score(train_target, classifier.predict(train_inputs), average='micro'))\n",
        "    print(\"--------------------------------------------------------------------------\")\n",
        "    #t = time.process_time()\n",
        "    classifier.fit(test_inputs, test_output) #for MLR\n",
        "    #training_time = time.process_time() - t\n",
        "    print(\"Testing Time =\",time.process_time() - t)\n",
        "    print(\"Testing Accuracy =\" ,accuracy_score(test_output, classifier.predict(test_inputs)))\n",
        "    print(\"Testing Precision =\", precision_score(test_output, classifier.predict(test_inputs), average='micro'))\n",
        "    print(\"Testing Recall =\", recall_score(y_test, classifier.predict(test_inputs), average='micro'))\n",
        "    print(\"Testing F1 Score =\", f1_score(y_test, classifier.predict(test_inputs), average='micro'))\n",
        "\n",
        "    y_pred=classifier.predict(test_inputs);\n",
        "    y_pred=np.array(y_pred)\n",
        "\n",
        "    plt.scatter(test_output, y_pred, color='blue', label='Predicted vs Actual')\n",
        "    plt.plot([min(y_test), max(y_test)], [min(y_test), max(y_test)], color='red', linestyle='--')  # Ideal line\n",
        "    plt.xlabel('Actual Values')\n",
        "    plt.ylabel('Predicted Values')\n",
        "    plt.title(f'Predicted vs Actual for {model_name} Model')\n",
        "    plt.legend()\n",
        "    plt.savefig(model_name + \".svg\",)\n",
        "    plt.show()\n",
        "\n",
        "    print(\"--------------------------------------------------------------------------\")\n",
        "    print(\"--------------------------------------------------------------------------\")\n"
      ]
    },
    {
      "cell_type": "code",
      "execution_count": null,
      "id": "f163c569",
      "metadata": {
        "scrolled": true,
        "id": "f163c569"
      },
      "outputs": [],
      "source": [
        "print(\"logistic Regression Model\")\n",
        "classifier = LogisticRegression();\n",
        "ML_classifier(classifier,train_inputs= X_train_scaled,train_target = y_train, test_inputs= X_test_scaled, test_output = y_test,model_name = \"LR_classifier\")\n",
        "\n",
        "classifier = svm.SVC();\n",
        "ML_classifier(classifier,train_inputs= X_train_scaled,train_target = y_train, test_inputs= X_test_scaled, test_output = y_test,model_name = \"SVM\")\n",
        "\n",
        "classifier = tree.DecisionTreeClassifier()\n",
        "ML_classifier(classifier,train_inputs= X_train_scaled,train_target = y_train, test_inputs= X_test_scaled, test_output = y_test,model_name = \"DecisionTreeClassifier\")\n",
        "\n",
        "classifier = MLPClassifier(hidden_layer_sizes=(100,), max_iter=500, random_state=42)\n",
        "ML_classifier(classifier,train_inputs= X_train_scaled,train_target = y_train, test_inputs= X_test_scaled, test_output = y_test,model_name = \"ANN_Classifier\")\n",
        "\n",
        "\n",
        "classifier = RandomForestClassifier()\n",
        "ML_classifier(classifier,train_inputs= X_train_scaled,train_target = y_train, test_inputs= X_test_scaled, test_output = y_test,model_name = \"Random_Forest_Classifier\")\n",
        "\n",
        "classifier = XGBClassifier(n_estimators=100, random_state=42)\n",
        "ML_classifier(classifier,train_inputs= X_train_scaled,train_target = y_train, test_inputs= X_test_scaled, test_output = y_test,model_name = \"XGB_classifier\")\n",
        "\n"
      ]
    },
    {
      "cell_type": "markdown",
      "id": "5883b361",
      "metadata": {
        "id": "5883b361"
      },
      "source": [
        "# Hyper Parameter Tuning for ANN"
      ]
    },
    {
      "cell_type": "code",
      "execution_count": null,
      "id": "7e60022e",
      "metadata": {
        "id": "7e60022e"
      },
      "outputs": [],
      "source": [
        "#Hyperparameter Tuning for ANN\n",
        "\n",
        "param_grid = {\n",
        "    'hidden_layer_sizes': [(50,), (100,), (50, 50), (100, 100)],  # Different layer configurations\n",
        "    'activation': ['relu', 'tanh', 'logistic'],  # Activation functions\n",
        "    #'solver': ['adam', 'sgd'],  # Solvers\n",
        "    #'learning_rate': ['constant', 'invscaling', 'adaptive'],  # Learning rate schedules\n",
        "    'learning_rate_init': [0.001, 0.01, 0.1]  # Initial learning rate values\n",
        "}\n",
        "\n",
        "# Instantiate the classifier\n",
        "classifier = MLPClassifier(random_state=12345, max_iter=1000)\n",
        "\n",
        "\n",
        "# Instantiate 5-fold CV repeated 3 times (reduce folds and repeats)\n",
        "cv = RepeatedKFold(n_splits=5, n_repeats=3, random_state=54321)\n",
        "\n",
        "\n",
        "# Instantiate grid search CV\n",
        "grid_cv = GridSearchCV(classifier, param_grid, scoring='accuracy', n_jobs=5, cv=cv, refit=True)\n",
        "\n",
        "# Perform grid search\n",
        "grid_cv.fit(X_train_scaled, y_train)\n",
        "\n",
        "# Which parameters were the best?\n",
        "print(f\"Best Parameters: {grid_cv.best_params_}\")\n",
        "\n",
        "# Get the best estimator (classifier with best hyperparameters)\n",
        "best_classifier = grid_cv.best_estimator_\n",
        "\n",
        "# Evaluate the best model on the test set\n",
        "y_pred = best_classifier.predict(X_test_scaled)\n",
        "print(f\"Accuracy on Test Set: {accuracy_score(y_test, y_pred)}\")"
      ]
    }
  ],
  "metadata": {
    "kernelspec": {
      "display_name": "Python 3 (ipykernel)",
      "language": "python",
      "name": "python3"
    },
    "language_info": {
      "codemirror_mode": {
        "name": "ipython",
        "version": 3
      },
      "file_extension": ".py",
      "mimetype": "text/x-python",
      "name": "python",
      "nbconvert_exporter": "python",
      "pygments_lexer": "ipython3",
      "version": "3.12.8"
    },
    "colab": {
      "provenance": [],
      "include_colab_link": true
    }
  },
  "nbformat": 4,
  "nbformat_minor": 5
}